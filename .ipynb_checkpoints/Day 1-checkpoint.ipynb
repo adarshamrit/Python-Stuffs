{
 "cells": [
  {
   "cell_type": "markdown",
   "id": "95c275ed",
   "metadata": {},
   "source": [
    "## Basic of Python"
   ]
  },
  {
   "cell_type": "markdown",
   "id": "a42d49b4",
   "metadata": {},
   "source": [
    "Python supports dynamic typecasting"
   ]
  },
  {
   "cell_type": "code",
   "execution_count": 1,
   "id": "ffff3c73",
   "metadata": {},
   "outputs": [],
   "source": [
    "a = 10\n",
    "a = 10.3"
   ]
  },
  {
   "cell_type": "markdown",
   "id": "6e4e7de6",
   "metadata": {},
   "source": [
    "#### Pros:\n",
    "1. Readable form\n",
    "2. Easy to code\n",
    "\n",
    "#### Cons:\n",
    "1. Unexpecteed error, if the user is not aware of the type of the object.\n",
    "Example is shown below"
   ]
  },
  {
   "cell_type": "code",
   "execution_count": 2,
   "id": "2ce46bb8",
   "metadata": {},
   "outputs": [
    {
     "name": "stdout",
     "output_type": "stream",
     "text": [
      "input a number20\n"
     ]
    },
    {
     "ename": "TypeError",
     "evalue": "unsupported operand type(s) for +: 'int' and 'str'",
     "output_type": "error",
     "traceback": [
      "\u001b[1;31m---------------------------------------------------------------------------\u001b[0m",
      "\u001b[1;31mTypeError\u001b[0m                                 Traceback (most recent call last)",
      "Input \u001b[1;32mIn [2]\u001b[0m, in \u001b[0;36m<cell line: 3>\u001b[1;34m()\u001b[0m\n\u001b[0;32m      1\u001b[0m a \u001b[38;5;241m=\u001b[39m \u001b[38;5;241m10\u001b[39m\n\u001b[0;32m      2\u001b[0m b \u001b[38;5;241m=\u001b[39m \u001b[38;5;28minput\u001b[39m(\u001b[38;5;124m'\u001b[39m\u001b[38;5;124minput a number\u001b[39m\u001b[38;5;124m'\u001b[39m)\n\u001b[1;32m----> 3\u001b[0m c \u001b[38;5;241m=\u001b[39m \u001b[43ma\u001b[49m\u001b[38;5;241;43m+\u001b[39;49m\u001b[43mb\u001b[49m\n\u001b[0;32m      4\u001b[0m \u001b[38;5;28mprint\u001b[39m(c)\n",
      "\u001b[1;31mTypeError\u001b[0m: unsupported operand type(s) for +: 'int' and 'str'"
     ]
    }
   ],
   "source": [
    "a = 10\n",
    "b = input('input a number')\n",
    "c = a+b\n",
    "print(c)"
   ]
  },
  {
   "cell_type": "code",
   "execution_count": 3,
   "id": "6dc97697",
   "metadata": {},
   "outputs": [
    {
     "data": {
      "text/plain": [
       "int"
      ]
     },
     "execution_count": 3,
     "metadata": {},
     "output_type": "execute_result"
    }
   ],
   "source": [
    "type(a)"
   ]
  },
  {
   "cell_type": "code",
   "execution_count": 4,
   "id": "adc4060b",
   "metadata": {},
   "outputs": [
    {
     "data": {
      "text/plain": [
       "str"
      ]
     },
     "execution_count": 4,
     "metadata": {},
     "output_type": "execute_result"
    }
   ],
   "source": [
    "type(b)"
   ]
  },
  {
   "cell_type": "markdown",
   "id": "6976bbcf",
   "metadata": {},
   "source": [
    "## DATATYPE"
   ]
  },
  {
   "cell_type": "markdown",
   "id": "ba623b88",
   "metadata": {},
   "source": [
    "#### 1.String"
   ]
  },
  {
   "cell_type": "code",
   "execution_count": 5,
   "id": "bc849431",
   "metadata": {},
   "outputs": [],
   "source": [
    "c = 'RAM'\n",
    "d = \"RAM\""
   ]
  },
  {
   "cell_type": "code",
   "execution_count": 6,
   "id": "6fd6db26",
   "metadata": {},
   "outputs": [],
   "source": [
    "e = \"Your's\""
   ]
  },
  {
   "cell_type": "markdown",
   "id": "72696d31",
   "metadata": {},
   "source": [
    "## Properties of Strings:"
   ]
  },
  {
   "cell_type": "markdown",
   "id": "4b3bdc53",
   "metadata": {},
   "source": [
    "1. Strings are ordered sequence.\n",
    "2. Strings suport indexing and slicing.\n"
   ]
  },
  {
   "cell_type": "code",
   "execution_count": 7,
   "id": "888c6a54",
   "metadata": {},
   "outputs": [],
   "source": [
    "a = 'I am a Siliconite'"
   ]
  },
  {
   "cell_type": "markdown",
   "id": "0342a654",
   "metadata": {},
   "source": [
    "Grab 'am' from the above string"
   ]
  },
  {
   "cell_type": "code",
   "execution_count": 8,
   "id": "efa08c93",
   "metadata": {},
   "outputs": [
    {
     "data": {
      "text/plain": [
       "'am'"
      ]
     },
     "execution_count": 8,
     "metadata": {},
     "output_type": "execute_result"
    }
   ],
   "source": [
    "a[2:4]"
   ]
  },
  {
   "cell_type": "markdown",
   "id": "39d3ff54",
   "metadata": {},
   "source": [
    "Grab the even location character"
   ]
  },
  {
   "cell_type": "code",
   "execution_count": 10,
   "id": "13cfb754",
   "metadata": {},
   "outputs": [
    {
     "data": {
      "text/plain": [
       "'Ia  iioi'"
      ]
     },
     "execution_count": 10,
     "metadata": {},
     "output_type": "execute_result"
    }
   ],
   "source": [
    "a[0:-1:2]"
   ]
  },
  {
   "cell_type": "markdown",
   "id": "95058f1b",
   "metadata": {},
   "source": [
    "#### 3. Strings are not mutable, which means we cannot use indexing. "
   ]
  },
  {
   "cell_type": "code",
   "execution_count": null,
   "id": "eb7f8b70",
   "metadata": {},
   "outputs": [],
   "source": []
  }
 ],
 "metadata": {
  "kernelspec": {
   "display_name": "Python 3 (ipykernel)",
   "language": "python",
   "name": "python3"
  },
  "language_info": {
   "codemirror_mode": {
    "name": "ipython",
    "version": 3
   },
   "file_extension": ".py",
   "mimetype": "text/x-python",
   "name": "python",
   "nbconvert_exporter": "python",
   "pygments_lexer": "ipython3",
   "version": "3.9.12"
  }
 },
 "nbformat": 4,
 "nbformat_minor": 5
}
