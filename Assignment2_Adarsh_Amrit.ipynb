{
 "cells": [
  {
   "cell_type": "markdown",
   "metadata": {},
   "source": [
    "# Assignment 2"
   ]
  },
  {
   "cell_type": "markdown",
   "metadata": {},
   "source": [
    "1. WAP to find the sum of digits of a number entered by user using while loop"
   ]
  },
  {
   "cell_type": "code",
   "execution_count": 2,
   "metadata": {},
   "outputs": [
    {
     "name": "stdout",
     "output_type": "stream",
     "text": [
      "Sum of the digits is: 6\n"
     ]
    }
   ],
   "source": [
    "\n",
    "a = int(input(\"Enter a number\"))\n",
    "\n",
    "sum = 0\n",
    "\n",
    "while a>0:\n",
    "    n = a%10\n",
    "    sum=sum+n\n",
    "    a=a//10\n",
    "print(\"Sum of the digits is:\", sum)\n"
   ]
  },
  {
   "cell_type": "markdown",
   "metadata": {},
   "source": [
    "WAP to print the reverse of a number entered by the user"
   ]
  },
  {
   "cell_type": "code",
   "execution_count": 4,
   "metadata": {},
   "outputs": [
    {
     "name": "stdout",
     "output_type": "stream",
     "text": [
      "54321\n"
     ]
    }
   ],
   "source": [
    "num = str(input(\"Enter a number to reverse it\"))\n",
    "print(str(num)[::-1])"
   ]
  },
  {
   "cell_type": "markdown",
   "metadata": {},
   "source": [
    "WAP to check for palindrome of a number"
   ]
  },
  {
   "cell_type": "code",
   "execution_count": 15,
   "metadata": {},
   "outputs": [
    {
     "name": "stdout",
     "output_type": "stream",
     "text": [
      "Not a palindrome\n"
     ]
    }
   ],
   "source": [
    "# I've deployed two methods here for my own understanding. One is by using a string input and reversing it and then running the check condition. Kindly evaluate on preference.\n",
    "inp = str(input(\"Enter the number to check for palindrome\"))\n",
    "\n",
    "rev = inp[::-1]\n",
    "\n",
    "if list(inp)==list(rev):\n",
    "    print('Palindrome')\n",
    "else:\n",
    "    print(\"Not a palindrome\")"
   ]
  },
  {
   "cell_type": "code",
   "execution_count": 14,
   "metadata": {},
   "outputs": [
    {
     "name": "stdout",
     "output_type": "stream",
     "text": [
      "Not palindrome\n"
     ]
    }
   ],
   "source": [
    "# I've deployed two methods and hence two set of programs for my own understanding.\n",
    "number=int(input(\"Enter the number for test\"))\n",
    "num=number\n",
    "rev = 0\n",
    "while num>0:\n",
    "      rev=(rev*10)+(num%10) \n",
    "      num=num//10\n",
    "\n",
    "if rev==number:\n",
    "    print(\"Palindrome\")\n",
    "else:\n",
    "    print(\"Not palindrome\")"
   ]
  },
  {
   "cell_type": "code",
   "execution_count": null,
   "metadata": {},
   "outputs": [],
   "source": []
  }
 ],
 "metadata": {
  "kernelspec": {
   "display_name": "Python 3.10.4 64-bit",
   "language": "python",
   "name": "python3"
  },
  "language_info": {
   "codemirror_mode": {
    "name": "ipython",
    "version": 3
   },
   "file_extension": ".py",
   "mimetype": "text/x-python",
   "name": "python",
   "nbconvert_exporter": "python",
   "pygments_lexer": "ipython3",
   "version": "3.10.4"
  },
  "orig_nbformat": 4,
  "vscode": {
   "interpreter": {
    "hash": "7278c71ffa4207e9ec14f2e824c0e5d4b977e0ff48cc976093a16e76b6291a2f"
   }
  }
 },
 "nbformat": 4,
 "nbformat_minor": 2
}
